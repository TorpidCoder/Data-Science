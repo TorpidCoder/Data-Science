{
 "cells": [
  {
   "cell_type": "code",
   "execution_count": null,
   "metadata": {},
   "outputs": [],
   "source": [
    "import tweepy\n",
    "from tweepy import OAuthHandler,Stream"
   ]
  },
  {
   "cell_type": "code",
   "execution_count": null,
   "metadata": {},
   "outputs": [],
   "source": [
    "from tweepy.streaming import StreamListener\n",
    "import json\n",
    "import socket"
   ]
  },
  {
   "cell_type": "code",
   "execution_count": null,
   "metadata": {},
   "outputs": [],
   "source": [
    "consumer_key = \"aNV8IroYwRqg35JxsrOvrRn6d\"\n",
    "consumer_secret = \"vOQSzwchXQFoZo9kUyon2cJ9lAuL2FEJk0i8dtY1jrDL1x4PEf\"\n",
    "access_token = \"1454117148-xw6NL1aozNHyusPOX6jXdo3nAeIaTW5vsDk5snh\"\n",
    "access_secret = \"bRXD5gfuy2DZw1f64SMutcvtCG5F1PGXvFLy9egbgggJJ\""
   ]
  },
  {
   "cell_type": "code",
   "execution_count": null,
   "metadata": {},
   "outputs": [],
   "source": [
    "class TweetListener(StreamListener):\n",
    "    def __init__(self,csocket):\n",
    "        self.client_socket = csocket\n",
    "        \n",
    "    def on_data(self,data):\n",
    "        try:\n",
    "            msg = json.load(data)\n",
    "            print(msg['text'].encode('utf-8'))\n",
    "            self.client_socket.send(msg['text'].encode('utf-8'))\n",
    "            return True\n",
    "        \n",
    "        except BaseException as e:\n",
    "            print(\"ERROR \" , e)\n",
    "            return True\n",
    "        \n",
    "    def on_error(self,status):\n",
    "        print(status)\n",
    "        return True"
   ]
  },
  {
   "cell_type": "code",
   "execution_count": null,
   "metadata": {},
   "outputs": [],
   "source": [
    "def sendData(c_socket):\n",
    "    auth = OAuthHandler(consumer_key , consumer_secret)\n",
    "    auth.set_access_token(access_token,access_secret)\n",
    "    \n",
    "    twitter_stream = Stream(auth , TweetListener(c_socket))\n",
    "    twitter_stream.filter(track=['guitar'])"
   ]
  },
  {
   "cell_type": "code",
   "execution_count": null,
   "metadata": {},
   "outputs": [],
   "source": [
    "if __name__ == '__main__':\n",
    "    s = socket.socket()\n",
    "    host = '127.0.0.1'\n",
    "    port = 5555\n",
    "    s.bind((host,port))\n",
    "    \n",
    "    print(\"Oh Yes I am listening on port 5555\")\n",
    "    \n",
    "    s.listen(5)\n",
    "    c,addr = s.accept()\n",
    "    \n",
    "    sendData(c)"
   ]
  },
  {
   "cell_type": "code",
   "execution_count": null,
   "metadata": {},
   "outputs": [],
   "source": []
  }
 ],
 "metadata": {
  "kernelspec": {
   "display_name": "Python 3",
   "language": "python",
   "name": "python3"
  },
  "language_info": {
   "codemirror_mode": {
    "name": "ipython",
    "version": 3
   },
   "file_extension": ".py",
   "mimetype": "text/x-python",
   "name": "python",
   "nbconvert_exporter": "python",
   "pygments_lexer": "ipython3",
   "version": "3.6.4"
  }
 },
 "nbformat": 4,
 "nbformat_minor": 2
}
