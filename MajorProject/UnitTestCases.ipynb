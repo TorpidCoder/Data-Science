{
 "cells": [
  {
   "cell_type": "code",
   "execution_count": 4,
   "metadata": {},
   "outputs": [],
   "source": [
    "import pandas as pd\n",
    "import seaborn as sns\n",
    "import matplotlib.pyplot as plt\n",
    "import numpy as np\n",
    "import unittest"
   ]
  },
  {
   "cell_type": "code",
   "execution_count": 2,
   "metadata": {},
   "outputs": [],
   "source": [
    "raw_csv_data = pd.read_csv(\"Absenteeism_data.csv\")"
   ]
  },
  {
   "cell_type": "code",
   "execution_count": 9,
   "metadata": {},
   "outputs": [
    {
     "data": {
      "text/plain": [
       "ID                           700\n",
       "Reason for Absence           700\n",
       "Date                         700\n",
       "Transportation Expense       700\n",
       "Distance to Work             700\n",
       "Age                          700\n",
       "Daily Work Load Average      700\n",
       "Body Mass Index              700\n",
       "Education                    700\n",
       "Children                     700\n",
       "Pets                         700\n",
       "Absenteeism Time in Hours    700\n",
       "dtype: int64"
      ]
     },
     "execution_count": 9,
     "metadata": {},
     "output_type": "execute_result"
    }
   ],
   "source": [
    "test = raw_csv_data.count()\n",
    "test"
   ]
  },
  {
   "cell_type": "code",
   "execution_count": 14,
   "metadata": {},
   "outputs": [
    {
     "name": "stderr",
     "output_type": "stream",
     "text": [
      "E\n",
      "======================================================================\n",
      "ERROR: /Users/sahilnagpal/Library/Jupyter/runtime/kernel-38c00b1d-8661-4d41-9338-de290f963924 (unittest.loader._FailedTest)\n",
      "----------------------------------------------------------------------\n",
      "AttributeError: module '__main__' has no attribute '/Users/sahilnagpal/Library/Jupyter/runtime/kernel-38c00b1d-8661-4d41-9338-de290f963924'\n",
      "\n",
      "----------------------------------------------------------------------\n",
      "Ran 1 test in 0.003s\n",
      "\n",
      "FAILED (errors=1)\n"
     ]
    },
    {
     "ename": "SystemExit",
     "evalue": "True",
     "output_type": "error",
     "traceback": [
      "An exception has occurred, use %tb to see the full traceback.\n",
      "\u001b[0;31mSystemExit\u001b[0m\u001b[0;31m:\u001b[0m True\n"
     ]
    },
    {
     "name": "stderr",
     "output_type": "stream",
     "text": [
      "/Library/Frameworks/Python.framework/Versions/3.6/lib/python3.6/site-packages/IPython/core/interactiveshell.py:3327: UserWarning: To exit: use 'exit', 'quit', or Ctrl-D.\n",
      "  warn(\"To exit: use 'exit', 'quit', or Ctrl-D.\", stacklevel=1)\n"
     ]
    }
   ],
   "source": [
    "import unittest\n",
    "import pandas as pd\n",
    "\n",
    "\n",
    "class MyTestCase(unittest.TestCase):\n",
    "    def test_count_data(self):\n",
    "        df = pd.read_csv(\"/Users/sahilnagpal/PycharmProjects/spark3/data/Absenteeism_data.csv\")\n",
    "        resultcount = df.count()\n",
    "        count_dict = dict()\n",
    "        for row in resultcount:\n",
    "            count_dict[row[\"Column\"]] = row[\"count\"]\n",
    "        self.assertEqual(count_dict[\"ID\"], 700,\"Count of ID is 700\")\n",
    "        self.assertEqual(count_dict[\"Reason for Absence\"], 700, \"Count of ID is 700\")\n",
    "        self.assertEqual(count_dict[\"Date\"], 700, \"Count of ID is 700\")\n",
    "        self.assertEqual(count_dict[\"Transportation Expense\"], 700, \"Count of ID is 700\")\n",
    "        self.assertEqual(count_dict[\"Distance to Work\"], 700, \"Count of ID is 700\")\n",
    "        self.assertEqual(count_dict[\"Age\"], 700, \"Count of ID is 700\")\n",
    "        self.assertEqual(count_dict[\"Daily Work Load Average\"], 700, \"Count of ID is 700\")\n",
    "        self.assertEqual(count_dict[\"Body Mass Index\"], 700, \"Count of ID is 700\")\n",
    "        self.assertEqual(count_dict[\"Education\"], 700, \"Count of ID is 700\")\n",
    "\n",
    "if __name__ == '__main__':\n",
    "    unittest.main()"
   ]
  },
  {
   "cell_type": "code",
   "execution_count": null,
   "metadata": {},
   "outputs": [],
   "source": [
    "import unittest\n",
    "import pandas as pd\n",
    "\n",
    "\n",
    "class MyTestCase(unittest.TestCase):\n",
    "    def test_count_data(self):\n",
    "        df = pd.read_csv(\"/Users/sahilnagpal/PycharmProjects/spark3/data/Absenteeism_data.csv\")\n",
    "        resultcount = df.count()\n",
    "        count_dict = dict()\n",
    "        for row in resultcount:\n",
    "            count_dict[row[\"Column\"]] = row[\"count\"]\n",
    "        self.assertEqual(count_dict[\"ID\"], 700,\"Count of ID is 700\")\n",
    "        self.assertEqual(count_dict[\"Reason for Absence\"], 700, \"Count of ID is 700\")\n",
    "        self.assertEqual(count_dict[\"Date\"], 700, \"Count of ID is 700\")\n",
    "        self.assertEqual(count_dict[\"Transportation Expense\"], 700, \"Count of ID is 700\")\n",
    "        self.assertEqual(count_dict[\"Distance to Work\"], 700, \"Count of ID is 700\")\n",
    "        self.assertEqual(count_dict[\"Age\"], 700, \"Count of ID is 700\")\n",
    "        self.assertEqual(count_dict[\"Daily Work Load Average\"], 700, \"Count of ID is 700\")\n",
    "        self.assertEqual(count_dict[\"Body Mass Index\"], 700, \"Count of ID is 700\")\n",
    "        self.assertEqual(count_dict[\"Education\"], 700, \"Count of ID is 700\")\n",
    "\n",
    "if __name__ == '__main__':\n",
    "    unittest.main()"
   ]
  }
 ],
 "metadata": {
  "kernelspec": {
   "display_name": "Python 3",
   "language": "python",
   "name": "python3"
  },
  "language_info": {
   "codemirror_mode": {
    "name": "ipython",
    "version": 3
   },
   "file_extension": ".py",
   "mimetype": "text/x-python",
   "name": "python",
   "nbconvert_exporter": "python",
   "pygments_lexer": "ipython3",
   "version": "3.6.4"
  }
 },
 "nbformat": 4,
 "nbformat_minor": 4
}
